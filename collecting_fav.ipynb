{
 "cells": [
  {
   "cell_type": "markdown",
   "metadata": {},
   "source": [
    "# fav,likeしたツイートに画像があれば保存"
   ]
  },
  {
   "cell_type": "code",
   "execution_count": 4,
   "metadata": {
    "collapsed": false
   },
   "outputs": [
    {
     "name": "stdout",
     "output_type": "stream",
     "text": [
      "2016年 3月16日 水曜日 03時02分30秒 JST\r\n"
     ]
    }
   ],
   "source": [
    "!date"
   ]
  },
  {
   "cell_type": "code",
   "execution_count": 6,
   "metadata": {
    "collapsed": false
   },
   "outputs": [
    {
     "name": "stdout",
     "output_type": "stream",
     "text": [
      "Python 3.4.4 :: Anaconda 2.3.0 (x86_64)\r\n"
     ]
    }
   ],
   "source": [
    "__author__ = '@sanbongawa'\n",
    "!python -V"
   ]
  },
  {
   "cell_type": "code",
   "execution_count": null,
   "metadata": {
    "collapsed": true
   },
   "outputs": [],
   "source": [
    "!mkdir fav_image"
   ]
  },
  {
   "cell_type": "code",
   "execution_count": null,
   "metadata": {
    "collapsed": true
   },
   "outputs": [],
   "source": [
    "import json"
   ]
  },
  {
   "cell_type": "code",
   "execution_count": null,
   "metadata": {
    "collapsed": true
   },
   "outputs": [],
   "source": [
    "access_keys={'key':\"XXXXXXXXXXXXXXXXXX\",\n",
    "    'secret':\"XXXXXXXXXXXXXXXXX\",\n",
    "    'token':\"XXXXXXXXXXXXXXXXXXX\",\n",
    "    'token_secret':\"XXXXXXXXXXXXXXXXXXXXX\"\n",
    "    }\n",
    "with open('tweetkeys.txt','w') as f:\n",
    "    f.write(json.dumps(access_keys,indent=4))"
   ]
  },
  {
   "cell_type": "code",
   "execution_count": null,
   "metadata": {
    "collapsed": true
   },
   "outputs": [],
   "source": [
    "with open('tweetkeys.txt','w') as f:\n",
    "    f.write(json.dumps(access_keys,indent=4))"
   ]
  },
  {
   "cell_type": "code",
   "execution_count": null,
   "metadata": {
    "collapsed": true
   },
   "outputs": [],
   "source": [
    "cnt = {'fav_count':130}"
   ]
  },
  {
   "cell_type": "code",
   "execution_count": null,
   "metadata": {
    "collapsed": true
   },
   "outputs": [],
   "source": [
    "with open('count.txt','w') as f:\n",
    "    f.write(json.dumps(cnt,indent=4))"
   ]
  },
  {
   "cell_type": "markdown",
   "metadata": {},
   "source": [
    "## 実行部"
   ]
  },
  {
   "cell_type": "code",
   "execution_count": null,
   "metadata": {
    "collapsed": true
   },
   "outputs": [],
   "source": [
    "#!/usr/bin/env python\n",
    "#-*- coding:utf-8 -*-\n",
    "\n",
    "# favoしたものに画像があれば保存\n",
    "#chainerからI2vで画像分類したい。\n",
    "#途中の画像保存のpathとリプ先は変更したり削除したりお願いします。\n",
    "import json\n",
    "import tweepy\n",
    "import urllib\n",
    "import datetime\n",
    "import time\n",
    "from tqdm import tqdm\n",
    "\n",
    "def get_oauth():\n",
    "    with open('tweetkeys.txt','r') as f:\n",
    "        j_d=json.loads(f.read())\n",
    "    consumer_key = j_d['key']\n",
    "    consumer_secret = j_d['secret']\n",
    "    access_key = j_d['token']\n",
    "    access_secret = j_d['token_secret']\n",
    "    auth = tweepy.OAuthHandler(consumer_key, consumer_secret)\n",
    "    auth.set_access_token(access_key, access_secret)\n",
    "    return auth\n",
    "\n",
    "def downloading(url,path):\n",
    "    a = urllib.request.urlopen(url).read()\n",
    "    with open(path,'wb') as f:\n",
    "        f.write(a)\n",
    "\n",
    "def create_clock(string_time):\n",
    "    jikoku=create_date(string_time)\n",
    "    jj= jikoku.hour+9\n",
    "    if jj < 24:\n",
    "        j=jj\n",
    "    else:\n",
    "        j =jj-24\n",
    "    jikan = '%d-%d%d-%02d%02d%02d'%(jikoku.year,jikoku.month,jikoku.day,j,jikoku.minute,jikoku.second)#,jikoku.microsecond)\n",
    "    return jikan\n",
    "\n",
    "def create_date(num):\n",
    "    m_l = {'Jan':1,'Feb':2,'Mar':3,'Apr':4,'May':5,'Jun':6,'Jul':7,'Aug':8,'Sep':9,'Oct':10,'Nov':11,'Dec':12}\n",
    "    day_info = num.split()\n",
    "    h,m,s = map(int,day_info[3].split(':'))\n",
    "    date2 = '%d/%d/%d %d:%d:%d'%(int(day_info[5]),m_l[day_info[1]],int(day_info[2]),h,m,s)\n",
    "    d = datetime.datetime.strptime(date2, '%Y/%m/%d %H:%M:%S')\n",
    "    return d\n",
    "\n",
    "#testtext = ''\n",
    "class StreamListener(tweepy.StreamListener):\n",
    "    def on_event(self, status):\n",
    "        global cnt\n",
    "        #global testtext\n",
    "        #testtext = status\n",
    "        if status.event=='favorite':\n",
    "            try:\n",
    "                medias = status.target_object['extended_entities']['media']\n",
    "                str_date = status.target_object['created_at']\n",
    "                for c,m in enumerate(medias):\n",
    "                    downloading(m['media_url'],'fav_image/%s-%d-%d.png'%(create_clock(str_date),c+1,cnt))\n",
    "                cnt+=1\n",
    "                #print('ok')\n",
    "            except Exception:\n",
    "                pass\n",
    "            if cnt%100==0:\n",
    "                try:\n",
    "                    message='@自分の垢 \\n%d個目です'%cnt\n",
    "                    api.update_status(status=message)#, in_reply_to_status_id=status.id)\n",
    "                    print(cnt)\n",
    "                except Exception:\n",
    "                    pass\n",
    "if __name__ == \"__main__\":\n",
    "    #実行部\n",
    "    try:\n",
    "        with open('count.txt','r') as f:\n",
    "            j=json.loads(f.read())\n",
    "            cnt=j['fav_count']\n",
    "    except Exception:\n",
    "        j={'fav_count':1}\n",
    "        cnt=j['fav_count']\n",
    "    #cnt読み込んだらそれぞれ指定して開始\n",
    "    auth = get_oauth()\n",
    "    api = tweepy.API(auth)\n",
    "    stream = tweepy.Stream(auth, StreamListener(), secure=True)\n",
    "    print (\"Start Streaming!\")\n",
    "    #接続弾かれてもいいように回し続ける\n",
    "    while True :\n",
    "        try:\n",
    "            stream.userstream()#\n",
    "        except Exception:\n",
    "            pass\n",
    "        #streaming弾かれたら、再接続\n",
    "        print('destroy client,reconnecti')\n",
    "        [time.sleep(1) for i in tqdm(range(180))]#tqdmなしならtime.sleep(180)で、ただプログレスバーの安心感\n",
    "        auth = get_oauth()\n",
    "        api = tweepy.API(auth)\n",
    "        stream = tweepy.Stream(auth,StreamListener())\n",
    "        try:\n",
    "            dt=datetime.now()\n",
    "            message='@自分の垢\\n接続切断、復旧します。\\n%d-%d/%d-%02d:%02d'%(dat.year,dt.month,dt.day,dt.hour,dt.minute)\n",
    "            api.update_status(status=message)\n",
    "        except Exception:\n",
    "            pass\n",
    "\n",
    "    #Nonetypeとか何かのerrorでwhileを出てきたら\n",
    "    auth = get_oauth()\n",
    "    api = tweepy.API(auth)\n",
    "    #とりあえず終了をリプ\n",
    "    try:\n",
    "        message='@自分の垢\\n異常あり、システムを終了しました。\\n%d-%d/%d-%02d:%02d'%(dat.year,dt.month,dt.day,dt.hour,dt.minute)\n",
    "        api.update_status(status=message)\n",
    "    except Exception:\n",
    "        pass\n",
    "    #cntを保存\n",
    "    j['fav_count']=cnt\n",
    "    with open('count.txt') as f:\n",
    "        f.write(json.dumps(j,indent=4))\n",
    "    print('fin')\n"
   ]
  }
 ],
 "metadata": {
  "kernelspec": {
   "display_name": "Python 3",
   "language": "python",
   "name": "python3"
  },
  "language_info": {
   "codemirror_mode": {
    "name": "ipython",
    "version": 3
   },
   "file_extension": ".py",
   "mimetype": "text/x-python",
   "name": "python",
   "nbconvert_exporter": "python",
   "pygments_lexer": "ipython3",
   "version": "3.4.4"
  }
 },
 "nbformat": 4,
 "nbformat_minor": 0
}
